{
 "cells": [
  {
   "cell_type": "markdown",
   "metadata": {},
   "source": [
    "# Jupyter Notebook Gruppe Tesla/Musk\n",
    "\n",
    "Teammitglieder: Falk Jaresch, Michael Foeger, Paula Engelberg, Christoph Fink.\n",
    "\n",
    "#### Rollenaufteilung:\n",
    "\n",
    "- Datenrecherche und Ideenfindung - Gruppe\n",
    "- Suche der passenden Datenquellen - Gruppe\n",
    "- Konvertierung von CSV in RDF - Foeger\n",
    "- Kombination der Datenquellen und Triple Store implementation - Engelberg\n",
    "- Anfragen an die Datenquellen - Fink\n",
    "- Erstellen einer Jekyll Seite - Jaresch\n",
    "\n",
    "- Extra: Datenbearbeitung in OpenRefine (Datum) - Fink\n",
    "\n",
    "#### Probleme:\n",
    "Beim Erstellen der Queries für Aktien-Tagespreise an den bestimmten Tagen war es schwierig per Syntax die Formatierung der ersten Spalte (Datum) anzupassen.\n",
    "Erst nach viel Recherche und Rücksprache mit Herrn Arndt war es klar, dass der einfachste Weg bei beiden Datenquellen eine einheitliche Formattierung des Datums zu erhalten (xsd:dateTime) war über OpenRefine.\n",
    "Wir haben die Tesla-Stock CSV Datei in OpenRefine reingeladen und dann per Java Befehl \"value.toDate('mm/dd/yyyy').toString('YYYY-MM-DD')\" das Datum von einem amerikanischen Format auf das korrekte übersetzt. Danach musste nur noch die CSV Datei erneut in ein RDF File transformiert werden.\n",
    "\n",
    "#### Reflexion der Techniken in Bezug auf den Technologiestack\n",
    "-\n",
    "\n",
    "#### Einverständnis zur Weitergabe erteilt\n",
    "\n",
    "\n"
   ]
  },
  {
   "cell_type": "markdown",
   "metadata": {},
   "source": [
    "## Projekt Ausarbeitung\n",
    "\n",
    "Datenquellen:\n",
    "\n",
    "- Elon Musk Tweets: https://www.kaggle.com/kulgen/elon-musks-tweets\n",
    "\n",
    "- Tesla Stock Price: https://www.kaggle.com/rpaguirre/tesla-stock-price\n",
    "\n"
   ]
  },
  {
   "cell_type": "markdown",
   "metadata": {},
   "source": [
    "### Import der Datenquelle"
   ]
  },
  {
   "cell_type": "code",
   "execution_count": 1,
   "metadata": {},
   "outputs": [],
   "source": [
    "from rdflib import Graph\n",
    "from pandas import DataFrame"
   ]
  },
  {
   "cell_type": "markdown",
   "metadata": {},
   "source": [
    "### Serialisierung: Parsen von Turtle zu ntriple"
   ]
  },
  {
   "cell_type": "code",
   "execution_count": 2,
   "metadata": {},
   "outputs": [],
   "source": [
    "g = Graph()\n",
    "g.parse(\"tesla.ttl\", format=\"ttl\")\n",
    "g.serialize(destination='tesla.nt', format=\"ntriples\")"
   ]
  },
  {
   "cell_type": "code",
   "execution_count": 3,
   "metadata": {},
   "outputs": [],
   "source": [
    "g.parse(\"tweets.ttl\", format=\"ttl\")\n",
    "g.serialize(destination='tweets.nt', format='ntriples')"
   ]
  },
  {
   "cell_type": "markdown",
   "metadata": {},
   "source": [
    "## Queries"
   ]
  },
  {
   "cell_type": "markdown",
   "metadata": {},
   "source": [
    "### Query nach Aktienpreis (Trading Tag Ende)\n"
   ]
  },
  {
   "cell_type": "code",
   "execution_count": 15,
   "metadata": {},
   "outputs": [
    {
     "data": {
      "text/html": [
       "<div>\n",
       "<style scoped>\n",
       "    .dataframe tbody tr th:only-of-type {\n",
       "        vertical-align: middle;\n",
       "    }\n",
       "\n",
       "    .dataframe tbody tr th {\n",
       "        vertical-align: top;\n",
       "    }\n",
       "\n",
       "    .dataframe thead th {\n",
       "        text-align: right;\n",
       "    }\n",
       "</style>\n",
       "<table border=\"1\" class=\"dataframe\">\n",
       "  <thead>\n",
       "    <tr style=\"text-align: right;\">\n",
       "      <th></th>\n",
       "      <th>date</th>\n",
       "      <th>close</th>\n",
       "    </tr>\n",
       "  </thead>\n",
       "  <tbody>\n",
       "    <tr>\n",
       "      <th>0</th>\n",
       "      <td>2017-01-31T09:00:00+00:00</td>\n",
       "      <td>251.929993</td>\n",
       "    </tr>\n",
       "    <tr>\n",
       "      <th>1</th>\n",
       "      <td>2017-01-30T09:00:00+00:00</td>\n",
       "      <td>250.630005</td>\n",
       "    </tr>\n",
       "    <tr>\n",
       "      <th>2</th>\n",
       "      <td>2017-01-28T09:00:00+00:00</td>\n",
       "      <td>249.990005</td>\n",
       "    </tr>\n",
       "    <tr>\n",
       "      <th>3</th>\n",
       "      <td>2017-01-27T09:00:00+00:00</td>\n",
       "      <td>246.229996</td>\n",
       "    </tr>\n",
       "    <tr>\n",
       "      <th>4</th>\n",
       "      <td>2017-01-27T09:00:00+00:00</td>\n",
       "      <td>252.949997</td>\n",
       "    </tr>\n",
       "    <tr>\n",
       "      <th>...</th>\n",
       "      <td>...</td>\n",
       "      <td>...</td>\n",
       "    </tr>\n",
       "    <tr>\n",
       "      <th>1684</th>\n",
       "      <td>2009-01-01T09:00:00+00:00</td>\n",
       "      <td>20.6</td>\n",
       "    </tr>\n",
       "    <tr>\n",
       "      <th>1685</th>\n",
       "      <td>2009-01-01T09:00:00+00:00</td>\n",
       "      <td>20.450001</td>\n",
       "    </tr>\n",
       "    <tr>\n",
       "      <th>1686</th>\n",
       "      <td>2009-01-01T09:00:00+00:00</td>\n",
       "      <td>21.41</td>\n",
       "    </tr>\n",
       "    <tr>\n",
       "      <th>1687</th>\n",
       "      <td>2009-01-01T09:00:00+00:00</td>\n",
       "      <td>21.959999</td>\n",
       "    </tr>\n",
       "    <tr>\n",
       "      <th>1688</th>\n",
       "      <td>2009-01-01T09:00:00+00:00</td>\n",
       "      <td>34.349998</td>\n",
       "    </tr>\n",
       "  </tbody>\n",
       "</table>\n",
       "<p>1689 rows × 2 columns</p>\n",
       "</div>"
      ],
      "text/plain": [
       "                           date       close\n",
       "0     2017-01-31T09:00:00+00:00  251.929993\n",
       "1     2017-01-30T09:00:00+00:00  250.630005\n",
       "2     2017-01-28T09:00:00+00:00  249.990005\n",
       "3     2017-01-27T09:00:00+00:00  246.229996\n",
       "4     2017-01-27T09:00:00+00:00  252.949997\n",
       "...                         ...         ...\n",
       "1684  2009-01-01T09:00:00+00:00        20.6\n",
       "1685  2009-01-01T09:00:00+00:00   20.450001\n",
       "1686  2009-01-01T09:00:00+00:00       21.41\n",
       "1687  2009-01-01T09:00:00+00:00   21.959999\n",
       "1688  2009-01-01T09:00:00+00:00   34.349998\n",
       "\n",
       "[1689 rows x 2 columns]"
      ]
     },
     "execution_count": 15,
     "metadata": {},
     "output_type": "execute_result"
    }
   ],
   "source": [
    "result = g.query(\"\"\"\n",
    "PREFIX rdfs: <http://www.w3.org/2000/01/rdf-schema#>       \n",
    "PREFIX dbo:  <http://dbpedia.org/ontology/>\n",
    "PREFIX rdf:  <http://www.w3.org/1999/02/22-rdf-syntax-ns#>\n",
    "PREFIX xsd:  <http://www.w3.org/2001/XMLSchema#>\n",
    "PREFIX sioc: <http://rdfs.org/sioc/ns#>\n",
    "PREFIX dc:   <http://purl.org/dc/elements/1.1/>\n",
    "\n",
    "SELECT ?date ?close\n",
    "\n",
    "WHERE {\n",
    "   ?tradingDay ex:close ?close ;\n",
    "    ex:date ?date .\n",
    "\n",
    " }\n",
    "\n",
    "ORDER BY DESC(?date)\n",
    "\"\"\")\n",
    "\n",
    "DataFrame(result, columns=result.vars)"
   ]
  },
  {
   "cell_type": "markdown",
   "metadata": {},
   "source": [
    "### Abfrage nach Tweet Inhalt"
   ]
  },
  {
   "cell_type": "code",
   "execution_count": 14,
   "metadata": {},
   "outputs": [
    {
     "data": {
      "text/html": [
       "<div>\n",
       "<style scoped>\n",
       "    .dataframe tbody tr th:only-of-type {\n",
       "        vertical-align: middle;\n",
       "    }\n",
       "\n",
       "    .dataframe tbody tr th {\n",
       "        vertical-align: top;\n",
       "    }\n",
       "\n",
       "    .dataframe thead th {\n",
       "        text-align: right;\n",
       "    }\n",
       "</style>\n",
       "<table border=\"1\" class=\"dataframe\">\n",
       "  <thead>\n",
       "    <tr style=\"text-align: right;\">\n",
       "      <th></th>\n",
       "      <th>content</th>\n",
       "    </tr>\n",
       "  </thead>\n",
       "  <tbody>\n",
       "    <tr>\n",
       "      <th>0</th>\n",
       "      <td>@SmileSimplify Sorry about that. You're right....</td>\n",
       "    </tr>\n",
       "  </tbody>\n",
       "</table>\n",
       "</div>"
      ],
      "text/plain": [
       "                                             content\n",
       "0  @SmileSimplify Sorry about that. You're right...."
      ]
     },
     "execution_count": 14,
     "metadata": {},
     "output_type": "execute_result"
    }
   ],
   "source": [
    "result = g.query(\"\"\"\n",
    "PREFIX rdfs: <http://www.w3.org/2000/01/rdf-schema#>       \n",
    "PREFIX dbo:  <http://dbpedia.org/ontology/>\n",
    "PREFIX rdf:  <http://www.w3.org/1999/02/22-rdf-syntax-ns#>\n",
    "PREFIX xsd:  <http://www.w3.org/2001/XMLSchema#>\n",
    "PREFIX sioc: <http://rdfs.org/sioc/ns#>\n",
    "PREFIX dc:   <http://purl.org/dc/elements/1.1/>\n",
    "\n",
    "SELECT ?content\n",
    "\n",
    "WHERE {\n",
    "   <http://example.org/resource/elonmusk/tweet/Row47> <http://rdfs.org/sioc/ns#content> ?content \n",
    "\n",
    " }\n",
    "\n",
    "\"\"\")\n",
    "\n",
    "DataFrame(result, columns=result.vars)"
   ]
  },
  {
   "cell_type": "markdown",
   "metadata": {},
   "source": [
    "### Test"
   ]
  },
  {
   "cell_type": "code",
   "execution_count": 62,
   "metadata": {},
   "outputs": [
    {
     "data": {
      "text/html": [
       "<div>\n",
       "<style scoped>\n",
       "    .dataframe tbody tr th:only-of-type {\n",
       "        vertical-align: middle;\n",
       "    }\n",
       "\n",
       "    .dataframe tbody tr th {\n",
       "        vertical-align: top;\n",
       "    }\n",
       "\n",
       "    .dataframe thead th {\n",
       "        text-align: right;\n",
       "    }\n",
       "</style>\n",
       "<table border=\"1\" class=\"dataframe\">\n",
       "  <thead>\n",
       "    <tr style=\"text-align: right;\">\n",
       "      <th></th>\n",
       "      <th>created</th>\n",
       "    </tr>\n",
       "  </thead>\n",
       "  <tbody>\n",
       "    <tr>\n",
       "      <th>0</th>\n",
       "      <td>2017-01-26T03:06:06+00:00</td>\n",
       "    </tr>\n",
       "    <tr>\n",
       "      <th>1</th>\n",
       "      <td>2017-01-27T13:29:30+00:00</td>\n",
       "    </tr>\n",
       "    <tr>\n",
       "      <th>2</th>\n",
       "      <td>2017-01-27T19:43:35+00:00</td>\n",
       "    </tr>\n",
       "    <tr>\n",
       "      <th>3</th>\n",
       "      <td>2017-01-27T20:32:52+00:00</td>\n",
       "    </tr>\n",
       "    <tr>\n",
       "      <th>4</th>\n",
       "      <td>2017-01-28T02:18:44+00:00</td>\n",
       "    </tr>\n",
       "    <tr>\n",
       "      <th>...</th>\n",
       "      <td>...</td>\n",
       "    </tr>\n",
       "    <tr>\n",
       "      <th>3213</th>\n",
       "      <td>2017-01-25T18:57:33+00:00</td>\n",
       "    </tr>\n",
       "    <tr>\n",
       "      <th>3214</th>\n",
       "      <td>2017-08-25T22:17:49+00:00</td>\n",
       "    </tr>\n",
       "    <tr>\n",
       "      <th>3215</th>\n",
       "      <td>2017-09-29T02:32:54+00:00</td>\n",
       "    </tr>\n",
       "    <tr>\n",
       "      <th>3216</th>\n",
       "      <td>2017-09-29T10:44:54+00:00</td>\n",
       "    </tr>\n",
       "    <tr>\n",
       "      <th>3217</th>\n",
       "      <td>2017-09-29T17:39:19+00:00</td>\n",
       "    </tr>\n",
       "  </tbody>\n",
       "</table>\n",
       "<p>3218 rows × 1 columns</p>\n",
       "</div>"
      ],
      "text/plain": [
       "                        created\n",
       "0     2017-01-26T03:06:06+00:00\n",
       "1     2017-01-27T13:29:30+00:00\n",
       "2     2017-01-27T19:43:35+00:00\n",
       "3     2017-01-27T20:32:52+00:00\n",
       "4     2017-01-28T02:18:44+00:00\n",
       "...                         ...\n",
       "3213  2017-01-25T18:57:33+00:00\n",
       "3214  2017-08-25T22:17:49+00:00\n",
       "3215  2017-09-29T02:32:54+00:00\n",
       "3216  2017-09-29T10:44:54+00:00\n",
       "3217  2017-09-29T17:39:19+00:00\n",
       "\n",
       "[3218 rows x 1 columns]"
      ]
     },
     "execution_count": 62,
     "metadata": {},
     "output_type": "execute_result"
    }
   ],
   "source": [
    "result = g.query(\"\"\"\n",
    "PREFIX rdfs: <http://www.w3.org/2000/01/rdf-schema#>       \n",
    "PREFIX dbo:  <http://dbpedia.org/ontology/>\n",
    "PREFIX rdf:  <http://www.w3.org/1999/02/22-rdf-syntax-ns#>\n",
    "PREFIX xsd:  <http://www.w3.org/2001/XMLSchema#>\n",
    "PREFIX sioc: <http://rdfs.org/sioc/ns#>\n",
    "PREFIX dc:   <http://purl.org/dc/elements/1.1/>\n",
    "\n",
    "SELECT ?created\n",
    "\n",
    "WHERE {\n",
    "   ?date dc:created ?created .\n",
    "\n",
    " }\n",
    "\n",
    "ORDER BY DESC(?date)\n",
    "\"\"\")\n",
    "\n",
    "DataFrame(result, columns=result.vars)"
   ]
  },
  {
   "cell_type": "code",
   "execution_count": null,
   "metadata": {},
   "outputs": [],
   "source": []
  }
 ],
 "metadata": {
  "kernelspec": {
   "display_name": "Python 3",
   "language": "python",
   "name": "python3"
  },
  "language_info": {
   "codemirror_mode": {
    "name": "ipython",
    "version": 3
   },
   "file_extension": ".py",
   "mimetype": "text/x-python",
   "name": "python",
   "nbconvert_exporter": "python",
   "pygments_lexer": "ipython3",
   "version": "3.7.5"
  }
 },
 "nbformat": 4,
 "nbformat_minor": 4
}
