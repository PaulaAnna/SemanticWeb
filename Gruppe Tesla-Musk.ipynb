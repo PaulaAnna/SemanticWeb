{
 "cells": [
  {
   "cell_type": "markdown",
   "metadata": {},
   "source": [
    "# Jupyter Notebook Gruppe Tesla/Musk\n",
    "\n",
    "Teammitglieder: Falk Jaresch, Michael Foeger, Paula Engelberg, Christoph Fink.\n",
    "\n",
    "#### Rollenaufteilung:\n",
    "\n",
    "- Datenrecherche und Ideenfindung - Gruppe\n",
    "- Suche der passenden Datenquellen - Gruppe\n",
    "- Konvertierung von CSV in RDF - Foeger\n",
    "- Kombination der Datenquellen und Triple Store Implementation - Engelberg\n",
    "- Anfragen an die Datenquellen - Fink\n",
    "- Erstellen einer Jekyll Seite - Jaresch\n",
    "\n",
    "- Extra: Datenbearbeitung in OpenRefine (Datum) - Fink\n",
    "\n",
    "\n",
    "\n",
    "\n",
    "#### Einverständnis zur Weitergabe erteilt\n",
    "\n",
    "\n"
   ]
  },
  {
   "cell_type": "markdown",
   "metadata": {},
   "source": [
    "## Projekt Ausarbeitung\n",
    "\n",
    "Datenquellen:\n",
    "\n",
    "- Elon Musk Tweets: https://www.kaggle.com/kulgen/elon-musks-tweets\n",
    "\n",
    "- Tesla Stock Price: https://www.kaggle.com/rpaguirre/tesla-stock-price\n",
    "\n"
   ]
  },
  {
   "cell_type": "markdown",
   "metadata": {},
   "source": [
    "## Konvertierung von CSV in RDF:\n",
    "\n",
    "Die .csv wurden mit tarql (verwendet die .sparql Dateien) in turtle (.ttl) Dateien umgewandelt."
   ]
  },
  {
   "cell_type": "markdown",
   "metadata": {},
   "source": [
    "## Import der Datenquelle"
   ]
  },
  {
   "cell_type": "markdown",
   "metadata": {},
   "source": [
    "### Vorgehen mit Docker\n",
    "\n",
    "Erstellung eines Projektordners auf dem lokalen Rechner. Hier wurden in weiterer Folge die beiden Dateien mit der Endung .ttl hineinkopiert. Im nächsten Schritt musste der Quit Store als Docker Image heruntergeladen werden. Das Image wurde durch Ausführen des Kommandos: `docker run --name quit -it --rm -p 8082:8080 -v \"$PWD\":/data aksw/quitstore:0.24.3` im Terminal gestartet. Wobei mit `-v \"$PWD\":/data` das lokale Repository mit dem /data Ordner im Docker verlinkt wurde. So hat Docker Zugriff auf die Dateien im lokalen Ordner. $PWD wird unter Unix Systemen verwendet und gibt den Pfad an, in welchem man sich gerade befinden → Present Working Directory. Kann auch durch die händische Eingabe des gewünschten Pfades ersetzt werden: /home/Documents… etc.\n"
   ]
  },
  {
   "cell_type": "markdown",
   "metadata": {},
   "source": [
    "### Aufgetretene Probleme\n",
    "Am anfang wusste ich nicht, wie ich meinen lokalen Ordner mit den .ttl Daten mit Docker verbinde. Die Verbindung hat mir gefehlt, da ich die Ordnerstruktur von Docker nicht kenne bzw. nicht verstanden habe. Nach einigen Stunden habe ich geswitched und versucht, den Quit Store über das Git Repository zu clonen. Dies hat nicht funktioniert und ich habe ständig die Fehlermeldung: `error: command ‘xcrun’ failed with exit status 1` bekommen. Nach der Fehlermeldung habe ich alle möglichen Programme upgedated, sowie einige Python Packages, die auf Stackoverflow angeführt waren heruntergeladen, leider ohne Erfolg. Ich bekam trotzdem immer wieder die oben genannte Fehlermeldung und zusätzlich noch: `fatal error: ‘git2.h’ file not found`. Auf der Suche nach Fehlerbehebung habe ich festgestellt, dass mir ein Phyton Developer Package fehlt, dieses aber scheinbar für Mac nicht existier bzw. schon installiert sein sollte.\n",
    "\n",
    "Danach habe ich wieder zu Docker gewechselt.\n"
   ]
  },
  {
   "cell_type": "markdown",
   "metadata": {},
   "source": [
    "### Arbeiten mit Docker Shell\n",
    "\n",
    "Im nächsten Schritt wurde die Shell von Docker aufgemacht.\n",
    "\n",
    "![title](Docker_Shell.png)\n",
    "\n",
    "Hier musste so lange hinauf navigiert werden, bis man zu der Übersicht kam, wo ein /data-Ordner zu sehen war. In dem /data-Ordner befanden sich dann die beiden .ttl-Dateien. Das war der Dateipfad, der oben mit `-v \"$PWD\":/data` angegeben wurde. Erst nach der Navigation in diesen Ordner konnte mittels `quit -t ~/data -p 8082` der Quit Store gestartet werden."
   ]
  },
  {
   "cell_type": "markdown",
   "metadata": {},
   "source": [
    "### Auftretende Probleme\n",
    "\n",
    "Nachdem ich herausgefunden habe, wie man durch Docker navigiert, habe ich den Befehl aus der Moodle-Doku (unter weitere Tools) `quit-bin -t /repository/directory -p 8082` ausgeführt. Der Befehl `quit-bin` wurde jedoch nicht gefunden (siehe Bild unten). Das `/repository/directory` musst auch durch `~/data` ersetzt werden, da es mein Zielverzeichnis ist.\n",
    "\n",
    "![](Docker_Fehlermeldung.png)\n",
    "\n",
    "Der Quit Store greift bei Docker auf die Daten über /data zu und dann greift Docker auf den lokalen Ordner auf meinem Rechner mit den Daten zu."
   ]
  },
  {
   "cell_type": "code",
   "execution_count": 14,
   "metadata": {},
   "outputs": [],
   "source": [
    "from rdflib import Graph\n",
    "from pandas import DataFrame"
   ]
  },
  {
   "cell_type": "markdown",
   "metadata": {},
   "source": [
    "### Serialisierung: Parsen von Turtle zu ntriple"
   ]
  },
  {
   "cell_type": "code",
   "execution_count": 15,
   "metadata": {},
   "outputs": [],
   "source": [
    "g = Graph()\n",
    "g.parse(\"tesla.ttl\", format=\"ttl\")\n",
    "g.serialize(destination='tesla.nt', format=\"ntriples\")"
   ]
  },
  {
   "cell_type": "code",
   "execution_count": 16,
   "metadata": {},
   "outputs": [],
   "source": [
    "g.parse(\"tweets.ttl\", format=\"ttl\")\n",
    "g.serialize(destination='tweets.nt', format='ntriples')"
   ]
  },
  {
   "cell_type": "markdown",
   "metadata": {},
   "source": [
    "Nachdem die beiden .ttl-Dateien serialisiert wurden, wurden sie in den Projektordner gelegt (siehe Abbildung unten).\n",
    "\n",
    "![](Lokaler_Projektordner.png)\n",
    "\n",
    "Danach wurde über das Terminal eine neue Datei mit dem Namen tesla.nt.graph angelegt und die URI http://example.org/resource/elonmusk/tesla/ eingefügt. Das gleiche wurde für tweets.nt.graph gemacht, der Inhalt ist jedoch: http://example.org/resource/elonmusk/tweet/\n",
    "\n",
    "Alle neu erstellten Dateien wurden in Git commited und eine Query auf die Daten ist nun über den Quit Store möglich.\n"
   ]
  },
  {
   "cell_type": "markdown",
   "metadata": {},
   "source": [
    "### Auftretende Probleme\n",
    "\n",
    "Ich habe zuerst nur die tesla.ttl serialisiert und wollte schauen, ob die Abfrage über den Quit Store funktioniert. Zu diesem Zeitpunkt hatte ich noch die Daten aus der Übung im Ordner. Die Query hat immer nur die vier Datensätze aus der Übung angezeigt, obwohl die tesla.nt und tesla.nt.graph commited waren.\n",
    "Nachdem ich unzählige W3C Dokumente durchforstet habe, habe ich zu meinem Problem keine Lösung gefunden.\n",
    "\n",
    "#### Tipp von Natanael:\n",
    "Meine Sparql-Query war falsch! Ich hatte folgendes in der Query stehen:\n",
    "```SQL\n",
    "SELECT ?subject ?predicate ?object\n",
    "WHERE {?subject ?predicate ?object}\n",
    "```\n",
    "Hier muss aber noch der Graph angegeben werden:\n",
    "```SQL\n",
    "SELECT ?subject ?predicate ?object\n",
    "WHERE { GRAPH <http://example.org/resource/elonmusk/tesla/>\n",
    "          { ?subject ?predicate ?object} }\n",
    "```\n",
    "Die Query wurde ausgebessert, lieferte aber immer noch keine Ergebnisse.\n",
    "\n",
    "#### Tipp von Natanael:\n",
    "Man darf keine zwei gleichen graph.nt.graph-Dateien haben. Das heißt, der Name und der Inhalt dieser Dateien mpssen unterschiedlich sein. Danach habe ich die Dateien aus der Übung gelöscht und in die tesla.nt.graph-Datei, in welcher zuvor nur http://example.org/ stand mit http://example.org/resource/elonmusk/tesla/ ergänzt. Der Schrägstrich nach /tesla/ ist sehr wichtig, ohne funktioniert es nicht.\n",
    "\n",
    "Danach konnte ich eine Query sowohl auf die Tweets als auch auf die Tesla Stock Daten durchführen und bekam auch Daten ausgegeben (siehe beide Abbildungen unten).\n",
    "\n",
    "\n",
    "![](Abfrage_Tweets.png)\n",
    "\n",
    "![](Abfrage_Tesla_Stock.png)"
   ]
  },
  {
   "cell_type": "markdown",
   "metadata": {},
   "source": [
    "Nach diesem Schritt wurden alle Daten commited und in ein GitHub-Repository geladen und mit den Kollegen geteilt."
   ]
  },
  {
   "cell_type": "markdown",
   "metadata": {},
   "source": [
    "## Queries"
   ]
  },
  {
   "cell_type": "markdown",
   "metadata": {},
   "source": [
    "### Erstellen von Queries\n",
    "Im Unterricht haben wir bereits gelernt wie man einfache Queries erstellt. Kurz zur Wiederholung in diesem Dokument beschreiben wir hier einen einfachen Query laut der SPARQL (die RDF Query Sprache) macht.\n",
    "\n",
    "Als Beispiel nehmen wir den folgenden Datensatz Triple:\n",
    "\n",
    "`<http://example.org/book/book1> <http://purl.org/dc/elements/1.1/title> \"SPARQL Tutorial\" .`\n",
    "\n",
    "Die Abfrage dazu könnte lauten:\n",
    "\n",
    "`SELECT ?title\n",
    "WHERE\n",
    "{\n",
    "  <http://example.org/book/book1> <http://purl.org/dc/elements/1.1/title> ?title .\n",
    "}`\n",
    "\n",
    "Mit dem Ergebnis:\n",
    "![](Query1.png)\n",
    "\n",
    "### Aufgetretene Probleme:\n",
    "Beim Erstellen der Queries für Aktien-Tagespreise an den bestimmten Tagen war es schwierig per Syntax die Formatierung der ersten Spalte (Datum) anzupassen.\n",
    "Erst nach viel Recherche und Rücksprache mit Natanael war es klar, dass der einfachste Weg bei beiden Datenquellen eine einheitliche Formattierung des Datums zu erhalten (xsd:dateTime) war über OpenRefine.\n",
    "\n",
    "\n",
    "Wir haben die Tesla-Stock CSV Datei in OpenRefine reingeladen und dann per Java Befehl `value.toDate('mm/dd/yyyy').toString('YYYY-MM-DD')` das Datum von einem amerikanischen Format auf das korrekte übersetzt. Danach musste nur noch die CSV Datei erneut in ein RDF File transformiert werden.\n",
    "\n",
    "Ein weiteres Problem war, dass per SPARQL das kürzen des DateTime Formats gar nicht so einfach war. Nach Rücksprache musste der folgende Befehl dafür verwendet werden:\n",
    "\n",
    "`bind (strdt(concat(str(year(?date)), \"-\", str(month(?date)), \"-\", str(day(?date))), xsd:date) as ?day)`\n",
    "\n",
    "Leider war eine korrekte Ausgabe mit dem oben genannten Befehl aber nicht möglich und wir mussten auf Aufwandsgründen das Datum in der Standardformatierung lassen."
   ]
  },
  {
   "cell_type": "markdown",
   "metadata": {},
   "source": [
    "### Query nach Aktienpreis (Trading Tag Ende)\n"
   ]
  },
  {
   "cell_type": "code",
   "execution_count": 17,
   "metadata": {},
   "outputs": [
    {
     "data": {
      "text/html": [
       "<div>\n",
       "<style scoped>\n",
       "    .dataframe tbody tr th:only-of-type {\n",
       "        vertical-align: middle;\n",
       "    }\n",
       "\n",
       "    .dataframe tbody tr th {\n",
       "        vertical-align: top;\n",
       "    }\n",
       "\n",
       "    .dataframe thead th {\n",
       "        text-align: right;\n",
       "    }\n",
       "</style>\n",
       "<table border=\"1\" class=\"dataframe\">\n",
       "  <thead>\n",
       "    <tr style=\"text-align: right;\">\n",
       "      <th></th>\n",
       "      <th>date</th>\n",
       "      <th>close</th>\n",
       "    </tr>\n",
       "  </thead>\n",
       "  <tbody>\n",
       "    <tr>\n",
       "      <th>0</th>\n",
       "      <td>2017-01-31T09:00:00+00:00</td>\n",
       "      <td>251.929993</td>\n",
       "    </tr>\n",
       "    <tr>\n",
       "      <th>1</th>\n",
       "      <td>2017-01-30T09:00:00+00:00</td>\n",
       "      <td>250.630005</td>\n",
       "    </tr>\n",
       "    <tr>\n",
       "      <th>2</th>\n",
       "      <td>2017-01-28T09:00:00+00:00</td>\n",
       "      <td>249.990005</td>\n",
       "    </tr>\n",
       "    <tr>\n",
       "      <th>3</th>\n",
       "      <td>2017-01-27T09:00:00+00:00</td>\n",
       "      <td>252.949997</td>\n",
       "    </tr>\n",
       "    <tr>\n",
       "      <th>4</th>\n",
       "      <td>2017-01-27T09:00:00+00:00</td>\n",
       "      <td>246.229996</td>\n",
       "    </tr>\n",
       "    <tr>\n",
       "      <th>...</th>\n",
       "      <td>...</td>\n",
       "      <td>...</td>\n",
       "    </tr>\n",
       "    <tr>\n",
       "      <th>1684</th>\n",
       "      <td>2009-01-01T09:00:00+00:00</td>\n",
       "      <td>34.349998</td>\n",
       "    </tr>\n",
       "    <tr>\n",
       "      <th>1685</th>\n",
       "      <td>2009-01-01T09:00:00+00:00</td>\n",
       "      <td>21.959999</td>\n",
       "    </tr>\n",
       "    <tr>\n",
       "      <th>1686</th>\n",
       "      <td>2009-01-01T09:00:00+00:00</td>\n",
       "      <td>20.450001</td>\n",
       "    </tr>\n",
       "    <tr>\n",
       "      <th>1687</th>\n",
       "      <td>2009-01-01T09:00:00+00:00</td>\n",
       "      <td>20.6</td>\n",
       "    </tr>\n",
       "    <tr>\n",
       "      <th>1688</th>\n",
       "      <td>2009-01-01T09:00:00+00:00</td>\n",
       "      <td>21.41</td>\n",
       "    </tr>\n",
       "  </tbody>\n",
       "</table>\n",
       "<p>1689 rows × 2 columns</p>\n",
       "</div>"
      ],
      "text/plain": [
       "                           date       close\n",
       "0     2017-01-31T09:00:00+00:00  251.929993\n",
       "1     2017-01-30T09:00:00+00:00  250.630005\n",
       "2     2017-01-28T09:00:00+00:00  249.990005\n",
       "3     2017-01-27T09:00:00+00:00  252.949997\n",
       "4     2017-01-27T09:00:00+00:00  246.229996\n",
       "...                         ...         ...\n",
       "1684  2009-01-01T09:00:00+00:00   34.349998\n",
       "1685  2009-01-01T09:00:00+00:00   21.959999\n",
       "1686  2009-01-01T09:00:00+00:00   20.450001\n",
       "1687  2009-01-01T09:00:00+00:00        20.6\n",
       "1688  2009-01-01T09:00:00+00:00       21.41\n",
       "\n",
       "[1689 rows x 2 columns]"
      ]
     },
     "execution_count": 17,
     "metadata": {},
     "output_type": "execute_result"
    }
   ],
   "source": [
    "result = g.query(\"\"\"\n",
    "PREFIX rdfs: <http://www.w3.org/2000/01/rdf-schema#>       \n",
    "PREFIX dbo:  <http://dbpedia.org/ontology/>\n",
    "PREFIX rdf:  <http://www.w3.org/1999/02/22-rdf-syntax-ns#>\n",
    "PREFIX xsd:  <http://www.w3.org/2001/XMLSchema#>\n",
    "PREFIX sioc: <http://rdfs.org/sioc/ns#>\n",
    "PREFIX dc:   <http://purl.org/dc/elements/1.1/>\n",
    "\n",
    "SELECT ?date ?close\n",
    "\n",
    "WHERE {\n",
    "   ?tradingDay ex:close ?close ;\n",
    "    ex:date ?date .\n",
    "\n",
    " }\n",
    "\n",
    "ORDER BY DESC(?date)\n",
    "\"\"\")\n",
    "\n",
    "DataFrame(result, columns=result.vars)"
   ]
  },
  {
   "cell_type": "markdown",
   "metadata": {},
   "source": [
    "### Abfrage nach Tweet Inhalt"
   ]
  },
  {
   "cell_type": "code",
   "execution_count": 18,
   "metadata": {},
   "outputs": [
    {
     "data": {
      "text/html": [
       "<div>\n",
       "<style scoped>\n",
       "    .dataframe tbody tr th:only-of-type {\n",
       "        vertical-align: middle;\n",
       "    }\n",
       "\n",
       "    .dataframe tbody tr th {\n",
       "        vertical-align: top;\n",
       "    }\n",
       "\n",
       "    .dataframe thead th {\n",
       "        text-align: right;\n",
       "    }\n",
       "</style>\n",
       "<table border=\"1\" class=\"dataframe\">\n",
       "  <thead>\n",
       "    <tr style=\"text-align: right;\">\n",
       "      <th></th>\n",
       "      <th>content</th>\n",
       "    </tr>\n",
       "  </thead>\n",
       "  <tbody>\n",
       "    <tr>\n",
       "      <th>0</th>\n",
       "      <td>@SmileSimplify Sorry about that. You're right....</td>\n",
       "    </tr>\n",
       "  </tbody>\n",
       "</table>\n",
       "</div>"
      ],
      "text/plain": [
       "                                             content\n",
       "0  @SmileSimplify Sorry about that. You're right...."
      ]
     },
     "execution_count": 18,
     "metadata": {},
     "output_type": "execute_result"
    }
   ],
   "source": [
    "result = g.query(\"\"\"\n",
    "PREFIX rdfs: <http://www.w3.org/2000/01/rdf-schema#>       \n",
    "PREFIX dbo:  <http://dbpedia.org/ontology/>\n",
    "PREFIX rdf:  <http://www.w3.org/1999/02/22-rdf-syntax-ns#>\n",
    "PREFIX xsd:  <http://www.w3.org/2001/XMLSchema#>\n",
    "PREFIX sioc: <http://rdfs.org/sioc/ns#>\n",
    "PREFIX dc:   <http://purl.org/dc/elements/1.1/>\n",
    "\n",
    "SELECT ?content\n",
    "\n",
    "WHERE {\n",
    "   <http://example.org/resource/elonmusk/tweet/Row47> <http://rdfs.org/sioc/ns#content> ?content \n",
    "\n",
    " }\n",
    "\n",
    "\"\"\")\n",
    "\n",
    "DataFrame(result, columns=result.vars)"
   ]
  },
  {
   "cell_type": "markdown",
   "metadata": {},
   "source": [
    "### Filter Datum: Nur Kurs-Werte ab Jänner 2015"
   ]
  },
  {
   "cell_type": "code",
   "execution_count": 19,
   "metadata": {},
   "outputs": [
    {
     "data": {
      "text/html": [
       "<div>\n",
       "<style scoped>\n",
       "    .dataframe tbody tr th:only-of-type {\n",
       "        vertical-align: middle;\n",
       "    }\n",
       "\n",
       "    .dataframe tbody tr th {\n",
       "        vertical-align: top;\n",
       "    }\n",
       "\n",
       "    .dataframe thead th {\n",
       "        text-align: right;\n",
       "    }\n",
       "</style>\n",
       "<table border=\"1\" class=\"dataframe\">\n",
       "  <thead>\n",
       "    <tr style=\"text-align: right;\">\n",
       "      <th></th>\n",
       "      <th>date</th>\n",
       "      <th>close</th>\n",
       "    </tr>\n",
       "  </thead>\n",
       "  <tbody>\n",
       "    <tr>\n",
       "      <th>0</th>\n",
       "      <td>2017-01-31T09:00:00+00:00</td>\n",
       "      <td>251.929993</td>\n",
       "    </tr>\n",
       "    <tr>\n",
       "      <th>1</th>\n",
       "      <td>2017-01-30T09:00:00+00:00</td>\n",
       "      <td>250.630005</td>\n",
       "    </tr>\n",
       "    <tr>\n",
       "      <th>2</th>\n",
       "      <td>2017-01-28T09:00:00+00:00</td>\n",
       "      <td>249.990005</td>\n",
       "    </tr>\n",
       "    <tr>\n",
       "      <th>3</th>\n",
       "      <td>2017-01-27T09:00:00+00:00</td>\n",
       "      <td>252.949997</td>\n",
       "    </tr>\n",
       "    <tr>\n",
       "      <th>4</th>\n",
       "      <td>2017-01-27T09:00:00+00:00</td>\n",
       "      <td>246.229996</td>\n",
       "    </tr>\n",
       "    <tr>\n",
       "      <th>...</th>\n",
       "      <td>...</td>\n",
       "      <td>...</td>\n",
       "    </tr>\n",
       "    <tr>\n",
       "      <th>550</th>\n",
       "      <td>2015-01-01T09:00:00+00:00</td>\n",
       "      <td>239.880005</td>\n",
       "    </tr>\n",
       "    <tr>\n",
       "      <th>551</th>\n",
       "      <td>2015-01-01T09:00:00+00:00</td>\n",
       "      <td>237.589996</td>\n",
       "    </tr>\n",
       "    <tr>\n",
       "      <th>552</th>\n",
       "      <td>2015-01-01T09:00:00+00:00</td>\n",
       "      <td>269.149994</td>\n",
       "    </tr>\n",
       "    <tr>\n",
       "      <th>553</th>\n",
       "      <td>2015-01-01T09:00:00+00:00</td>\n",
       "      <td>216.5</td>\n",
       "    </tr>\n",
       "    <tr>\n",
       "      <th>554</th>\n",
       "      <td>2015-01-01T09:00:00+00:00</td>\n",
       "      <td>181.880005</td>\n",
       "    </tr>\n",
       "  </tbody>\n",
       "</table>\n",
       "<p>555 rows × 2 columns</p>\n",
       "</div>"
      ],
      "text/plain": [
       "                          date       close\n",
       "0    2017-01-31T09:00:00+00:00  251.929993\n",
       "1    2017-01-30T09:00:00+00:00  250.630005\n",
       "2    2017-01-28T09:00:00+00:00  249.990005\n",
       "3    2017-01-27T09:00:00+00:00  252.949997\n",
       "4    2017-01-27T09:00:00+00:00  246.229996\n",
       "..                         ...         ...\n",
       "550  2015-01-01T09:00:00+00:00  239.880005\n",
       "551  2015-01-01T09:00:00+00:00  237.589996\n",
       "552  2015-01-01T09:00:00+00:00  269.149994\n",
       "553  2015-01-01T09:00:00+00:00       216.5\n",
       "554  2015-01-01T09:00:00+00:00  181.880005\n",
       "\n",
       "[555 rows x 2 columns]"
      ]
     },
     "execution_count": 19,
     "metadata": {},
     "output_type": "execute_result"
    }
   ],
   "source": [
    "result = g.query(\"\"\"\n",
    "PREFIX rdfs: <http://www.w3.org/2000/01/rdf-schema#>       \n",
    "PREFIX dbo:  <http://dbpedia.org/ontology/>\n",
    "PREFIX rdf:  <http://www.w3.org/1999/02/22-rdf-syntax-ns#>\n",
    "PREFIX xsd:  <http://www.w3.org/2001/XMLSchema#>\n",
    "PREFIX sioc: <http://rdfs.org/sioc/ns#>\n",
    "PREFIX dc:   <http://purl.org/dc/elements/1.1/>\n",
    "\n",
    "SELECT ?date ?close\n",
    "\n",
    "WHERE {\n",
    "   ?tradingDay ex:close ?close ;\n",
    "    ex:date ?date .\n",
    "    FILTER (?date > \"2015-01-01T00:00:00Z\"^^xsd:dateTime)\n",
    " }\n",
    " \n",
    "ORDER BY DESC(?date)\n",
    "\"\"\")\n",
    "\n",
    "DataFrame(result, columns=result.vars)"
   ]
  },
  {
   "cell_type": "markdown",
   "metadata": {},
   "source": [
    "### ASK: Is Elon Musk the Creator of the Tweets?"
   ]
  },
  {
   "cell_type": "code",
   "execution_count": 20,
   "metadata": {},
   "outputs": [
    {
     "data": {
      "text/html": [
       "<div>\n",
       "<style scoped>\n",
       "    .dataframe tbody tr th:only-of-type {\n",
       "        vertical-align: middle;\n",
       "    }\n",
       "\n",
       "    .dataframe tbody tr th {\n",
       "        vertical-align: top;\n",
       "    }\n",
       "\n",
       "    .dataframe thead th {\n",
       "        text-align: right;\n",
       "    }\n",
       "</style>\n",
       "<table border=\"1\" class=\"dataframe\">\n",
       "  <thead>\n",
       "    <tr style=\"text-align: right;\">\n",
       "      <th></th>\n",
       "      <th>0</th>\n",
       "    </tr>\n",
       "  </thead>\n",
       "  <tbody>\n",
       "    <tr>\n",
       "      <th>0</th>\n",
       "      <td>True</td>\n",
       "    </tr>\n",
       "  </tbody>\n",
       "</table>\n",
       "</div>"
      ],
      "text/plain": [
       "      0\n",
       "0  True"
      ]
     },
     "execution_count": 20,
     "metadata": {},
     "output_type": "execute_result"
    }
   ],
   "source": [
    "result = g.query(\"\"\"\n",
    "PREFIX rdfs: <http://www.w3.org/2000/01/rdf-schema#>       \n",
    "PREFIX dbo:  <http://dbpedia.org/ontology/>\n",
    "PREFIX rdf:  <http://www.w3.org/1999/02/22-rdf-syntax-ns#>\n",
    "PREFIX xsd:  <http://www.w3.org/2001/XMLSchema#>\n",
    "PREFIX sioc: <http://rdfs.org/sioc/ns#>\n",
    "PREFIX dc:   <http://purl.org/dc/elements/1.1/>\n",
    "\n",
    "ASK\n",
    "WHERE {\n",
    "  <http://example.org/resource/elonmusk/tweet/Row562> <http://rdfs.org/sioc/ns#has_creator> \"https://twitter.com/elonmusk\" .\n",
    "}\n",
    "\"\"\")\n",
    "\n",
    "DataFrame(result, columns=result.vars)"
   ]
  },
  {
   "cell_type": "markdown",
   "metadata": {},
   "source": [
    "### Kursabfrage an einem Datum"
   ]
  },
  {
   "cell_type": "code",
   "execution_count": 32,
   "metadata": {},
   "outputs": [
    {
     "data": {
      "text/html": [
       "<div>\n",
       "<style scoped>\n",
       "    .dataframe tbody tr th:only-of-type {\n",
       "        vertical-align: middle;\n",
       "    }\n",
       "\n",
       "    .dataframe tbody tr th {\n",
       "        vertical-align: top;\n",
       "    }\n",
       "\n",
       "    .dataframe thead th {\n",
       "        text-align: right;\n",
       "    }\n",
       "</style>\n",
       "<table border=\"1\" class=\"dataframe\">\n",
       "  <thead>\n",
       "    <tr style=\"text-align: right;\">\n",
       "      <th></th>\n",
       "      <th>date</th>\n",
       "      <th>close</th>\n",
       "    </tr>\n",
       "  </thead>\n",
       "  <tbody>\n",
       "    <tr>\n",
       "      <th>0</th>\n",
       "      <td>2015-01-01T09:00:00+00:00</td>\n",
       "      <td>237.190002</td>\n",
       "    </tr>\n",
       "    <tr>\n",
       "      <th>1</th>\n",
       "      <td>2015-01-01T09:00:00+00:00</td>\n",
       "      <td>196.940002</td>\n",
       "    </tr>\n",
       "    <tr>\n",
       "      <th>2</th>\n",
       "      <td>2015-01-01T09:00:00+00:00</td>\n",
       "      <td>200.770004</td>\n",
       "    </tr>\n",
       "    <tr>\n",
       "      <th>3</th>\n",
       "      <td>2015-01-01T09:00:00+00:00</td>\n",
       "      <td>238.630005</td>\n",
       "    </tr>\n",
       "    <tr>\n",
       "      <th>4</th>\n",
       "      <td>2015-01-01T09:00:00+00:00</td>\n",
       "      <td>249.449997</td>\n",
       "    </tr>\n",
       "    <tr>\n",
       "      <th>5</th>\n",
       "      <td>2015-01-01T09:00:00+00:00</td>\n",
       "      <td>219.559998</td>\n",
       "    </tr>\n",
       "    <tr>\n",
       "      <th>6</th>\n",
       "      <td>2015-01-01T09:00:00+00:00</td>\n",
       "      <td>226.029999</td>\n",
       "    </tr>\n",
       "    <tr>\n",
       "      <th>7</th>\n",
       "      <td>2015-01-01T09:00:00+00:00</td>\n",
       "      <td>186.350006</td>\n",
       "    </tr>\n",
       "    <tr>\n",
       "      <th>8</th>\n",
       "      <td>2015-01-01T09:00:00+00:00</td>\n",
       "      <td>187.589996</td>\n",
       "    </tr>\n",
       "    <tr>\n",
       "      <th>9</th>\n",
       "      <td>2015-01-01T09:00:00+00:00</td>\n",
       "      <td>230.009995</td>\n",
       "    </tr>\n",
       "    <tr>\n",
       "      <th>10</th>\n",
       "      <td>2015-01-01T09:00:00+00:00</td>\n",
       "      <td>190.789993</td>\n",
       "    </tr>\n",
       "    <tr>\n",
       "      <th>11</th>\n",
       "      <td>2015-01-01T09:00:00+00:00</td>\n",
       "      <td>239.880005</td>\n",
       "    </tr>\n",
       "    <tr>\n",
       "      <th>12</th>\n",
       "      <td>2015-01-01T09:00:00+00:00</td>\n",
       "      <td>237.589996</td>\n",
       "    </tr>\n",
       "    <tr>\n",
       "      <th>13</th>\n",
       "      <td>2015-01-01T09:00:00+00:00</td>\n",
       "      <td>269.149994</td>\n",
       "    </tr>\n",
       "    <tr>\n",
       "      <th>14</th>\n",
       "      <td>2015-01-01T09:00:00+00:00</td>\n",
       "      <td>216.5</td>\n",
       "    </tr>\n",
       "    <tr>\n",
       "      <th>15</th>\n",
       "      <td>2015-01-01T09:00:00+00:00</td>\n",
       "      <td>181.880005</td>\n",
       "    </tr>\n",
       "  </tbody>\n",
       "</table>\n",
       "</div>"
      ],
      "text/plain": [
       "                         date       close\n",
       "0   2015-01-01T09:00:00+00:00  237.190002\n",
       "1   2015-01-01T09:00:00+00:00  196.940002\n",
       "2   2015-01-01T09:00:00+00:00  200.770004\n",
       "3   2015-01-01T09:00:00+00:00  238.630005\n",
       "4   2015-01-01T09:00:00+00:00  249.449997\n",
       "5   2015-01-01T09:00:00+00:00  219.559998\n",
       "6   2015-01-01T09:00:00+00:00  226.029999\n",
       "7   2015-01-01T09:00:00+00:00  186.350006\n",
       "8   2015-01-01T09:00:00+00:00  187.589996\n",
       "9   2015-01-01T09:00:00+00:00  230.009995\n",
       "10  2015-01-01T09:00:00+00:00  190.789993\n",
       "11  2015-01-01T09:00:00+00:00  239.880005\n",
       "12  2015-01-01T09:00:00+00:00  237.589996\n",
       "13  2015-01-01T09:00:00+00:00  269.149994\n",
       "14  2015-01-01T09:00:00+00:00       216.5\n",
       "15  2015-01-01T09:00:00+00:00  181.880005"
      ]
     },
     "execution_count": 32,
     "metadata": {},
     "output_type": "execute_result"
    }
   ],
   "source": [
    "result = g.query(\"\"\"\n",
    "PREFIX rdfs: <http://www.w3.org/2000/01/rdf-schema#>       \n",
    "PREFIX dbo:  <http://dbpedia.org/ontology/>\n",
    "PREFIX rdf:  <http://www.w3.org/1999/02/22-rdf-syntax-ns#>\n",
    "PREFIX xsd:  <http://www.w3.org/2001/XMLSchema#>\n",
    "PREFIX sioc: <http://rdfs.org/sioc/ns#>\n",
    "PREFIX dc:   <http://purl.org/dc/elements/1.1/>\n",
    "\n",
    "\n",
    "SELECT ?date ?close\n",
    "\n",
    "WHERE {\n",
    "   ?tradingDay ex:close ?close ;\n",
    "   ex:date ?date .\n",
    "   FILTER(?date = strdt('2015-01-01T09:00:00+00:00', xsd:dateTime))\n",
    "}\n",
    "\n",
    "\n",
    "\"\"\")\n",
    "\n",
    "DataFrame(result, columns=result.vars)"
   ]
  },
  {
   "cell_type": "markdown",
   "metadata": {},
   "source": [
    "### Bei DateTime die Uhrzeit entfernen\n"
   ]
  },
  {
   "cell_type": "code",
   "execution_count": 1,
   "metadata": {
    "scrolled": true
   },
   "outputs": [
    {
     "ename": "NameError",
     "evalue": "name 'g' is not defined",
     "output_type": "error",
     "traceback": [
      "\u001b[1;31m---------------------------------------------------------------------------\u001b[0m",
      "\u001b[1;31mNameError\u001b[0m                                 Traceback (most recent call last)",
      "\u001b[1;32m<ipython-input-1-980135b82f7f>\u001b[0m in \u001b[0;36m<module>\u001b[1;34m\u001b[0m\n\u001b[1;32m----> 1\u001b[1;33m result = g.query(\"\"\"\n\u001b[0m\u001b[0;32m      2\u001b[0m \u001b[0mPREFIX\u001b[0m \u001b[0mrdfs\u001b[0m\u001b[1;33m:\u001b[0m \u001b[1;33m<\u001b[0m\u001b[0mhttp\u001b[0m\u001b[1;33m:\u001b[0m\u001b[1;33m//\u001b[0m\u001b[0mwww\u001b[0m\u001b[1;33m.\u001b[0m\u001b[0mw3\u001b[0m\u001b[1;33m.\u001b[0m\u001b[0morg\u001b[0m\u001b[1;33m/\u001b[0m\u001b[1;36m2000\u001b[0m\u001b[1;33m/\u001b[0m\u001b[1;36m0\u001b[0m\u001b[1;36m1\u001b[0m\u001b[1;33m/\u001b[0m\u001b[0mrdf\u001b[0m\u001b[1;33m-\u001b[0m\u001b[0mschema\u001b[0m\u001b[1;31m#>\u001b[0m\u001b[1;33m\u001b[0m\u001b[1;33m\u001b[0m\u001b[0m\n\u001b[0;32m      3\u001b[0m \u001b[0mPREFIX\u001b[0m \u001b[0mdbo\u001b[0m\u001b[1;33m:\u001b[0m  \u001b[1;33m<\u001b[0m\u001b[0mhttp\u001b[0m\u001b[1;33m:\u001b[0m\u001b[1;33m//\u001b[0m\u001b[0mdbpedia\u001b[0m\u001b[1;33m.\u001b[0m\u001b[0morg\u001b[0m\u001b[1;33m/\u001b[0m\u001b[0montology\u001b[0m\u001b[1;33m/\u001b[0m\u001b[1;33m>\u001b[0m\u001b[1;33m\u001b[0m\u001b[1;33m\u001b[0m\u001b[0m\n\u001b[0;32m      4\u001b[0m \u001b[0mPREFIX\u001b[0m \u001b[0mrdf\u001b[0m\u001b[1;33m:\u001b[0m  \u001b[1;33m<\u001b[0m\u001b[0mhttp\u001b[0m\u001b[1;33m:\u001b[0m\u001b[1;33m//\u001b[0m\u001b[0mwww\u001b[0m\u001b[1;33m.\u001b[0m\u001b[0mw3\u001b[0m\u001b[1;33m.\u001b[0m\u001b[0morg\u001b[0m\u001b[1;33m/\u001b[0m\u001b[1;36m1999\u001b[0m\u001b[1;33m/\u001b[0m\u001b[1;36m0\u001b[0m\u001b[1;36m2\u001b[0m\u001b[1;33m/\u001b[0m\u001b[1;36m22\u001b[0m\u001b[1;33m-\u001b[0m\u001b[0mrdf\u001b[0m\u001b[1;33m-\u001b[0m\u001b[0msyntax\u001b[0m\u001b[1;33m-\u001b[0m\u001b[0mns\u001b[0m\u001b[1;31m#>\u001b[0m\u001b[1;33m\u001b[0m\u001b[1;33m\u001b[0m\u001b[0m\n\u001b[0;32m      5\u001b[0m \u001b[0mPREFIX\u001b[0m \u001b[0mxsd\u001b[0m\u001b[1;33m:\u001b[0m  \u001b[1;33m<\u001b[0m\u001b[0mhttp\u001b[0m\u001b[1;33m:\u001b[0m\u001b[1;33m//\u001b[0m\u001b[0mwww\u001b[0m\u001b[1;33m.\u001b[0m\u001b[0mw3\u001b[0m\u001b[1;33m.\u001b[0m\u001b[0morg\u001b[0m\u001b[1;33m/\u001b[0m\u001b[1;36m2001\u001b[0m\u001b[1;33m/\u001b[0m\u001b[0mXMLSchema\u001b[0m\u001b[1;31m#>\u001b[0m\u001b[1;33m\u001b[0m\u001b[1;33m\u001b[0m\u001b[0m\n",
      "\u001b[1;31mNameError\u001b[0m: name 'g' is not defined"
     ]
    }
   ],
   "source": [
    "result = g.query(\"\"\"\n",
    "PREFIX rdfs: <http://www.w3.org/2000/01/rdf-schema#>       \n",
    "PREFIX dbo:  <http://dbpedia.org/ontology/>\n",
    "PREFIX rdf:  <http://www.w3.org/1999/02/22-rdf-syntax-ns#>\n",
    "PREFIX xsd:  <http://www.w3.org/2001/XMLSchema#>\n",
    "PREFIX sioc: <http://rdfs.org/sioc/ns#>\n",
    "PREFIX dc:   <http://purl.org/dc/elements/1.1/>\n",
    "\n",
    "SELECT ?date ?close\n",
    "\n",
    "WHERE {\n",
    "   ?tradingDay ex:close ?close ;\n",
    "    ex:date ?date .\n",
    "    BIND(strdt(concat(str(year(?date)), \"-\", str(month(?date)), \"-\", str(day(?date))), xsd:date) as ?day)\n",
    " }\n",
    " \n",
    "  \n",
    " \n",
    "ORDER BY DESC(?date)\n",
    "\"\"\")\n",
    "\n",
    "DataFrame(result, columns=result.vars)"
   ]
  },
  {
   "cell_type": "markdown",
   "metadata": {},
   "source": [
    "## Jekyll-RDF Page\n",
    "\n",
    "### Erstellen der Jekyll-RDF Seite:\n",
    "Nachdem die Datenquellen, wie auch die Queries soweit bereitstanden, wurde diese exemplarisch als Quelle für die zu kreierende Jekyll-RDF Seite genutzt. Durch dediziertes Folgen des Screencasts und der Github-Dokumentation, wurden zuerst die nötigen Dependencies runtergeladen. Danach wurden einzelne Dateien und Ordner über das Terminal erstellt und bearbeitet, sowie über den gemockten Webserver ausgeliefert. \n"
   ]
  },
  {
   "cell_type": "markdown",
   "metadata": {},
   "source": [
    "### Aufgetretene Probleme: \n",
    "Tatsächlich bestanden die größten Hürden aus der Nutzung von Bundler als Grundlage der Seite. \n",
    "Fast 1 Stunde wurde für die Lösung des HTTP-Parser-Install Problems verwendet (siehe Bild).\n",
    "\n",
    "![](http_parser_problem)\n",
    "\n",
    "Ein zweites Problem ergab sich beim committen der erstellten Dateien nach der Bundler Installation. Durch einen fatal error (CLRF würde durch LF ersetzt) konnten Änderungen nicht gepusht werden. Nach ausgiebiger Recherche, würde das Ersetzen keine grundlegenden Schaden anrichten, sodass der Error ignoriert wurde. \n"
   ]
  },
  {
   "cell_type": "code",
   "execution_count": null,
   "metadata": {},
   "outputs": [],
   "source": []
  }
 ],
 "metadata": {
  "kernelspec": {
   "display_name": "Python 3",
   "language": "python",
   "name": "python3"
  },
  "language_info": {
   "codemirror_mode": {
    "name": "ipython",
    "version": 3
   },
   "file_extension": ".py",
   "mimetype": "text/x-python",
   "name": "python",
   "nbconvert_exporter": "python",
   "pygments_lexer": "ipython3",
   "version": "3.6.7"
  }
 },
 "nbformat": 4,
 "nbformat_minor": 4
}
