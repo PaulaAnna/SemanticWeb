{
 "cells": [
  {
   "cell_type": "markdown",
   "metadata": {},
   "source": [
    "# Jupyter Notebook Gruppe Tesla/Musk\n",
    "Teammitglieder: Falk Jaresch, Michael Foeger, Paula Engelberg, Christoph Fink\n",
    "    "
   ]
  },
  {
   "cell_type": "markdown",
   "metadata": {},
   "source": [
    "## Import der Datenquelle"
   ]
  },
  {
   "cell_type": "code",
   "execution_count": 33,
   "metadata": {},
   "outputs": [],
   "source": [
    "from rdflib import Graph\n",
    "from pandas import DataFrame"
   ]
  },
  {
   "cell_type": "markdown",
   "metadata": {},
   "source": [
    "# Serialisierung: Parsen von Turtle zu ntriple"
   ]
  },
  {
   "cell_type": "code",
   "execution_count": 34,
   "metadata": {},
   "outputs": [],
   "source": [
    "g = Graph()\n",
    "g.parse(\"tesla.ttl\", format=\"ttl\")\n",
    "g.serialize(destination='tesla.nt', format=\"ntriples\")"
   ]
  },
  {
   "cell_type": "code",
   "execution_count": 35,
   "metadata": {},
   "outputs": [],
   "source": [
    "g.parse(\"tweets.ttl\", format=\"ttl\")\n",
    "g.serialize(destination='tweets.nt', format='ntriples')"
   ]
  },
  {
   "cell_type": "markdown",
   "metadata": {},
   "source": [
    "## Query"
   ]
  },
  {
   "cell_type": "code",
   "execution_count": 36,
   "metadata": {},
   "outputs": [
    {
     "data": {
      "text/html": [
       "<div>\n",
       "<style scoped>\n",
       "    .dataframe tbody tr th:only-of-type {\n",
       "        vertical-align: middle;\n",
       "    }\n",
       "\n",
       "    .dataframe tbody tr th {\n",
       "        vertical-align: top;\n",
       "    }\n",
       "\n",
       "    .dataframe thead th {\n",
       "        text-align: right;\n",
       "    }\n",
       "</style>\n",
       "<table border=\"1\" class=\"dataframe\">\n",
       "  <thead>\n",
       "    <tr style=\"text-align: right;\">\n",
       "      <th></th>\n",
       "      <th>date</th>\n",
       "      <th>close</th>\n",
       "    </tr>\n",
       "  </thead>\n",
       "  <tbody>\n",
       "    <tr>\n",
       "      <th>0</th>\n",
       "      <td>http://example.org/resource/elonmusk/tesla/9/9...</td>\n",
       "      <td>194.470001</td>\n",
       "    </tr>\n",
       "    <tr>\n",
       "      <th>1</th>\n",
       "      <td>http://example.org/resource/elonmusk/tesla/9/9...</td>\n",
       "      <td>248.910004</td>\n",
       "    </tr>\n",
       "    <tr>\n",
       "      <th>2</th>\n",
       "      <td>http://example.org/resource/elonmusk/tesla/9/9...</td>\n",
       "      <td>278.480011</td>\n",
       "    </tr>\n",
       "    <tr>\n",
       "      <th>3</th>\n",
       "      <td>http://example.org/resource/elonmusk/tesla/9/9...</td>\n",
       "      <td>160.699997</td>\n",
       "    </tr>\n",
       "    <tr>\n",
       "      <th>4</th>\n",
       "      <td>http://example.org/resource/elonmusk/tesla/9/9...</td>\n",
       "      <td>22.969999</td>\n",
       "    </tr>\n",
       "    <tr>\n",
       "      <th>...</th>\n",
       "      <td>...</td>\n",
       "      <td>...</td>\n",
       "    </tr>\n",
       "    <tr>\n",
       "      <th>1687</th>\n",
       "      <td>http://example.org/resource/elonmusk/tesla/1/1...</td>\n",
       "      <td>229.869995</td>\n",
       "    </tr>\n",
       "    <tr>\n",
       "      <th>1688</th>\n",
       "      <td>http://example.org/resource/elonmusk/tesla/1/1...</td>\n",
       "      <td>145.720001</td>\n",
       "    </tr>\n",
       "    <tr>\n",
       "      <th>1689</th>\n",
       "      <td>http://example.org/resource/elonmusk/tesla/1/1...</td>\n",
       "      <td>33.529999</td>\n",
       "    </tr>\n",
       "    <tr>\n",
       "      <th>1690</th>\n",
       "      <td>http://example.org/resource/elonmusk/tesla/1/1...</td>\n",
       "      <td>27.620001</td>\n",
       "    </tr>\n",
       "    <tr>\n",
       "      <th>1691</th>\n",
       "      <td>http://example.org/resource/elonmusk/tesla/1/1...</td>\n",
       "      <td>28.450001</td>\n",
       "    </tr>\n",
       "  </tbody>\n",
       "</table>\n",
       "<p>1692 rows × 2 columns</p>\n",
       "</div>"
      ],
      "text/plain": [
       "                                                   date       close\n",
       "0     http://example.org/resource/elonmusk/tesla/9/9...  194.470001\n",
       "1     http://example.org/resource/elonmusk/tesla/9/9...  248.910004\n",
       "2     http://example.org/resource/elonmusk/tesla/9/9...  278.480011\n",
       "3     http://example.org/resource/elonmusk/tesla/9/9...  160.699997\n",
       "4     http://example.org/resource/elonmusk/tesla/9/9...   22.969999\n",
       "...                                                 ...         ...\n",
       "1687  http://example.org/resource/elonmusk/tesla/1/1...  229.869995\n",
       "1688  http://example.org/resource/elonmusk/tesla/1/1...  145.720001\n",
       "1689  http://example.org/resource/elonmusk/tesla/1/1...   33.529999\n",
       "1690  http://example.org/resource/elonmusk/tesla/1/1...   27.620001\n",
       "1691  http://example.org/resource/elonmusk/tesla/1/1...   28.450001\n",
       "\n",
       "[1692 rows x 2 columns]"
      ]
     },
     "execution_count": 36,
     "metadata": {},
     "output_type": "execute_result"
    }
   ],
   "source": [
    "result = g.query(\"\"\"\n",
    "PREFIX rdfs: <http://www.w3.org/2000/01/rdf-schema#>       \n",
    "PREFIX dbo:  <http://dbpedia.org/ontology/>\n",
    "PREFIX rdf:  <http://www.w3.org/1999/02/22-rdf-syntax-ns#>\n",
    "PREFIX xsd:  <http://www.w3.org/2001/XMLSchema#>\n",
    "PREFIX sioc:  <http://rdfs.org/sioc/ns#>\n",
    "PREFIX dc:  <http://purl.org/dc/elements/1.1/>\n",
    "\n",
    "SELECT ?date ?close\n",
    "\n",
    "WHERE {\n",
    "  ?date ex:close ?close .\n",
    "}\n",
    "\n",
    "ORDER BY DESC(?date)\n",
    "\"\"\")\n",
    "\n",
    "DataFrame(result, columns=result.vars)"
   ]
  }
 ],
 "metadata": {
  "kernelspec": {
   "display_name": "Python 3",
   "language": "python",
   "name": "python3"
  },
  "language_info": {
   "codemirror_mode": {
    "name": "ipython",
    "version": 3
   },
   "file_extension": ".py",
   "mimetype": "text/x-python",
   "name": "python",
   "nbconvert_exporter": "python",
   "pygments_lexer": "ipython3",
   "version": "3.7.5"
  }
 },
 "nbformat": 4,
 "nbformat_minor": 4
}
